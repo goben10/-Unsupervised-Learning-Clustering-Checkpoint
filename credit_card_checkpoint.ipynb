{
 "cells": [
  {
   "cell_type": "code",
   "execution_count": null,
   "id": "d0ed61bc-a83d-4d2a-97c3-831a5d678ab3",
   "metadata": {},
   "outputs": [],
   "source": [
    "import pandas as pd\n",
    "from scipy import stats\n",
    "import numpy as np\n",
    "\n",
    "from sklearn.preprocessing import StandardScaler\n",
    "from scipy.cluster.hierarchy import dendrogram, linkage\n",
    "from sklearn.cluster import KMeans\n",
    "import matplotlib.pyplot as plt"
   ]
  },
  {
   "cell_type": "code",
   "execution_count": null,
   "id": "96081e00-ede9-4a20-9d2b-df53756e756a",
   "metadata": {},
   "outputs": [],
   "source": [
    "# Load the dataset.\n",
    "data = pd.read_csv(\"Credit_card_dataset.csv\")\n",
    "\n",
    "data"
   ]
  },
  {
   "cell_type": "code",
   "execution_count": 53,
   "id": "c14a18e9-7667-43f1-8fd6-7357ebd7cace",
   "metadata": {},
   "outputs": [
    {
     "name": "stdout",
     "output_type": "stream",
     "text": [
      "<class 'pandas.core.frame.DataFrame'>\n",
      "RangeIndex: 8950 entries, 0 to 8949\n",
      "Data columns (total 6 columns):\n",
      " #   Column             Non-Null Count  Dtype  \n",
      "---  ------             --------------  -----  \n",
      " 0   CUST_ID            8950 non-null   object \n",
      " 1   BALANCE_FREQUENCY  8950 non-null   float64\n",
      " 2   PURCHASES          8950 non-null   float64\n",
      " 3   PAYMENTS           8950 non-null   float64\n",
      " 4   CREDIT_LIMIT       8949 non-null   float64\n",
      " 5   CASH_ADVANCE       8950 non-null   float64\n",
      "dtypes: float64(5), object(1)\n",
      "memory usage: 419.7+ KB\n",
      "None\n"
     ]
    }
   ],
   "source": [
    "print(data.info())"
   ]
  },
  {
   "cell_type": "code",
   "execution_count": 55,
   "id": "292a06e9-dc78-4c6d-93b5-c63e754e3178",
   "metadata": {},
   "outputs": [
    {
     "name": "stdout",
     "output_type": "stream",
     "text": [
      "       BALANCE_FREQUENCY     PURCHASES      PAYMENTS  CREDIT_LIMIT  \\\n",
      "count        8950.000000   8950.000000   8950.000000   8949.000000   \n",
      "mean            0.877271   1003.204834   1733.143852   4494.449450   \n",
      "std             0.236904   2136.634782   2895.063757   3638.815725   \n",
      "min             0.000000      0.000000      0.000000     50.000000   \n",
      "25%             0.888889     39.635000    383.276166   1600.000000   \n",
      "50%             1.000000    361.280000    856.901546   3000.000000   \n",
      "75%             1.000000   1110.130000   1901.134317   6500.000000   \n",
      "max             1.000000  49039.570000  50721.483360  30000.000000   \n",
      "\n",
      "       CASH_ADVANCE  \n",
      "count   8950.000000  \n",
      "mean     978.871112  \n",
      "std     2097.163877  \n",
      "min        0.000000  \n",
      "25%        0.000000  \n",
      "50%        0.000000  \n",
      "75%     1113.821139  \n",
      "max    47137.211760  \n"
     ]
    }
   ],
   "source": [
    "print(data.describe())"
   ]
  },
  {
   "cell_type": "code",
   "execution_count": 57,
   "id": "e324c259-071f-411e-a83d-e7c1d877e883",
   "metadata": {},
   "outputs": [
    {
     "name": "stdout",
     "output_type": "stream",
     "text": [
      "CUST_ID              0\n",
      "BALANCE_FREQUENCY    0\n",
      "PURCHASES            0\n",
      "PAYMENTS             0\n",
      "CREDIT_LIMIT         1\n",
      "CASH_ADVANCE         0\n",
      "dtype: int64\n"
     ]
    }
   ],
   "source": [
    "print(data.isnull().sum())"
   ]
  },
  {
   "cell_type": "code",
   "execution_count": 59,
   "id": "7c2eb2eb-8c4e-4cb4-b09c-4b7e1db286d7",
   "metadata": {},
   "outputs": [
    {
     "name": "stdout",
     "output_type": "stream",
     "text": [
      "BALANCE_FREQUENCY       0.877271\n",
      "PURCHASES            1003.204834\n",
      "PAYMENTS             1733.143852\n",
      "CREDIT_LIMIT         4494.449450\n",
      "CASH_ADVANCE          978.871112\n",
      "Name: mean, dtype: float64\n"
     ]
    }
   ],
   "source": [
    "# Handle missing values (example: filling with mean).\n",
    "# 1. Extract the mean values for each column.\n",
    "mean_values = data.describe().loc[\"mean\"]\n",
    "print(mean_values)"
   ]
  },
  {
   "cell_type": "code",
   "execution_count": 61,
   "id": "5745bc83-4a6a-4809-bb75-b0ed6a0ed390",
   "metadata": {},
   "outputs": [],
   "source": [
    "# 2. Fill missing values with the mean values\n",
    "data.fillna(mean_values, inplace=True)"
   ]
  },
  {
   "cell_type": "code",
   "execution_count": 63,
   "id": "5fd58639-c128-46c7-af11-917088b1d342",
   "metadata": {},
   "outputs": [
    {
     "name": "stdout",
     "output_type": "stream",
     "text": [
      "CUST_ID              0\n",
      "BALANCE_FREQUENCY    0\n",
      "PURCHASES            0\n",
      "PAYMENTS             0\n",
      "CREDIT_LIMIT         0\n",
      "CASH_ADVANCE         0\n",
      "dtype: int64\n"
     ]
    }
   ],
   "source": [
    "# 3. Check for missing values again to confirm they are handled\n",
    "print(data.isnull().sum())"
   ]
  },
  {
   "cell_type": "code",
   "execution_count": 65,
   "id": "a179f604-ed9c-4b41-9adb-89b681f0ecd5",
   "metadata": {},
   "outputs": [],
   "source": [
    "# Handle categorical features by Encoding categorical features.\n",
    "data[\"CUST_ID\"] = data[\"CUST_ID\"].astype(\"category\").cat.codes"
   ]
  },
  {
   "cell_type": "code",
   "execution_count": 67,
   "id": "3a86565b-c3e0-43cf-9264-e492fd6f2cf3",
   "metadata": {},
   "outputs": [],
   "source": [
    "# Check for duplicates and remove them.\n",
    "data = data.drop_duplicates()"
   ]
  },
  {
   "cell_type": "code",
   "execution_count": 69,
   "id": "1d946ece-5011-4296-a32e-f65e400a742b",
   "metadata": {},
   "outputs": [
    {
     "name": "stdout",
     "output_type": "stream",
     "text": [
      "<class 'pandas.core.frame.DataFrame'>\n",
      "Index: 8314 entries, 0 to 8949\n",
      "Data columns (total 6 columns):\n",
      " #   Column             Non-Null Count  Dtype  \n",
      "---  ------             --------------  -----  \n",
      " 0   CUST_ID            8314 non-null   int16  \n",
      " 1   BALANCE_FREQUENCY  8314 non-null   float64\n",
      " 2   PURCHASES          8314 non-null   float64\n",
      " 3   PAYMENTS           8314 non-null   float64\n",
      " 4   CREDIT_LIMIT       8314 non-null   float64\n",
      " 5   CASH_ADVANCE       8314 non-null   float64\n",
      "dtypes: float64(5), int16(1)\n",
      "memory usage: 406.0 KB\n",
      "None\n"
     ]
    }
   ],
   "source": [
    "# Handle outliers (example: removing outliers using z-score).\n",
    "data = data[(np.abs(stats.zscore(data.select_dtypes(include=[np.number]))) < 3).all(axis=1)]\n",
    "\n",
    "# Display the cleaned data.\n",
    "print(data.info())"
   ]
  },
  {
   "cell_type": "code",
   "execution_count": 71,
   "id": "799051e2-10a3-41f9-9c11-1013a70628ae",
   "metadata": {},
   "outputs": [],
   "source": [
    "# Select features\n",
    "X = data[[\"PURCHASES\", \"CREDIT_LIMIT\"]]"
   ]
  },
  {
   "cell_type": "code",
   "execution_count": 73,
   "id": "276f961c-f5be-4a9f-a3d8-35f7370b2917",
   "metadata": {},
   "outputs": [],
   "source": [
    "# Standardize the features\n",
    "scaler = StandardScaler()\n",
    "X_scaled = scaler.fit_transform(X)"
   ]
  },
  {
   "cell_type": "code",
   "execution_count": 75,
   "id": "568964ad-a1b6-4b7e-800f-c8205f197a73",
   "metadata": {},
   "outputs": [],
   "source": [
    "# Perform hierarchical clustering\n",
    "linked = linkage(X_scaled, method = \"ward\")"
   ]
  },
  {
   "cell_type": "code",
   "execution_count": null,
   "id": "0353701d-11ea-4ad4-94b1-7a5770e6ef18",
   "metadata": {},
   "outputs": [],
   "source": [
    "# Plot the dendrogram\n",
    "plt.figure(figsize=(10, 7))\n",
    "dendrogram(linked,\n",
    "           orientation = \"top\",\n",
    "           distance_sort = \"descending\",\n",
    "           show_leaf_counts=True)\n",
    "plt.title(\"Hierarchical Clustering Dendrogram\")\n",
    "plt.xlabel(\"Customers\")\n",
    "plt.ylabel(\"Distance\")\n",
    "plt.show()"
   ]
  },
  {
   "cell_type": "code",
   "execution_count": null,
   "id": "18304bd4-e5c3-4354-b0ab-4650f5d17d18",
   "metadata": {},
   "outputs": [],
   "source": [
    "# Perform K-means clustering\n",
    "kmeans = KMeans(n_clusters=3, random_state=42)\n",
    "data[\"Cluster\"] = kmeans.fit_predict(X_scaled)"
   ]
  },
  {
   "cell_type": "code",
   "execution_count": null,
   "id": "9760722c-5825-4627-9296-98786d188e2f",
   "metadata": {},
   "outputs": [],
   "source": [
    "# Plot the clusters\n",
    "plt.figure(figsize=(10, 7))\n",
    "plt.scatter(data[\"PURCHASES\"], data[\"CREDIT_LIMIT\"], c = data[\"Cluster\"], cmap = \"viridis\")\n",
    "plt.title(\"K-means Clustering\")\n",
    "plt.xlabel(\"Purchases\")\n",
    "plt.ylabel(\"Credit Limit\")\n",
    "plt.show()"
   ]
  },
  {
   "cell_type": "code",
   "execution_count": null,
   "id": "169c6f0f-3c09-4cf1-8962-345cecd6d493",
   "metadata": {},
   "outputs": [],
   "source": [
    "# Find the best k value using the Elbow Method\n",
    "wcss = []\n",
    "for i in range(1, 11):\n",
    "    kmeans = KMeans(n_clusters=i, random_state=42)\n",
    "    kmeans.fit(X_scaled)\n",
    "    wcss.append(kmeans.inertia_)"
   ]
  },
  {
   "cell_type": "code",
   "execution_count": null,
   "id": "42ee992e-9c4c-4530-b11b-b836d6c1702c",
   "metadata": {},
   "outputs": [],
   "source": [
    "# Plot the Elbow Method graph\n",
    "plt.figure(figsize=(10, 7))\n",
    "plt.plot(range(1, 11), wcss)\n",
    "plt.title(\"Elbow Method\")\n",
    "plt.xlabel(\"Number of Clusters\")\n",
    "plt.ylabel(\"WCSS\")\n",
    "plt.show()"
   ]
  },
  {
   "cell_type": "code",
   "execution_count": null,
   "id": "edac8e2c-d5d8-46d8-bd2d-7ac746e0d710",
   "metadata": {},
   "outputs": [],
   "source": [
    "# Perform K-means clustering with the best k value (example: k=3)\n",
    "kmeans = KMeans(n_clusters=3, random_state=42)\n",
    "data[\"Best_Cluster\"] = kmeans.fit_predict(X_scaled)"
   ]
  },
  {
   "cell_type": "code",
   "execution_count": null,
   "id": "f1a4accb-d30f-4477-ba19-34298efc1f2e",
   "metadata": {},
   "outputs": [],
   "source": [
    "# Plot the clusters with the best k value\n",
    "plt.figure(figsize = (10, 7))\n",
    "plt.scatter(data[\"PURCHASES\"], data[\"CREDIT_LIMIT\"], c = data[\"Best_Cluster\"], cmap = \"viridis\")\n",
    "plt.title(\"K-means Clustering with Best k\")\n",
    "plt.xlabel(\"Purchases\")\n",
    "plt.ylabel(\"Credit Limit\")\n",
    "plt.show()"
   ]
  },
  {
   "cell_type": "code",
   "execution_count": null,
   "id": "55a1f467-708d-4b87-be23-c8006a7b33f2",
   "metadata": {},
   "outputs": [],
   "source": []
  }
 ],
 "metadata": {
  "kernelspec": {
   "display_name": "Python [conda env:base] *",
   "language": "python",
   "name": "conda-base-py"
  },
  "language_info": {
   "codemirror_mode": {
    "name": "ipython",
    "version": 3
   },
   "file_extension": ".py",
   "mimetype": "text/x-python",
   "name": "python",
   "nbconvert_exporter": "python",
   "pygments_lexer": "ipython3",
   "version": "3.12.7"
  }
 },
 "nbformat": 4,
 "nbformat_minor": 5
}
